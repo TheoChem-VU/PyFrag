{
 "cells": [
  {
   "cell_type": "markdown",
   "metadata": {},
   "source": [
    "## Remote machine\n",
    "\n",
    "  \n",
    "To use qmworks as a jobflow engine, it is suggested to installed in an virtual environment on your remote machine, such as supercomputer or cluster, the installation of qmworks is as follows:\n",
    "\n",
    "  - conda installation. Type in your console the following command:   \n",
    "    ```bash\n",
    "     wget https://repo.continuum.io/miniconda/Miniconda3-latest-Linux-x86_64.sh -O miniconda.sh\n",
    "    ```\n",
    "\n",
    "  - Then add miniconda to your path\n",
    "    ```bash\n",
    "     ./miniconda.sh -b -p $HOME/miniconda\n",
    "    ```\n",
    "\n",
    "  - Create new virtual environment\n",
    "    ```bash\n",
    "     conda create -q -n qmworks python=3.6\n",
    "    ```\n",
    "\n",
    "  - Activate qmworks environment\n",
    "    ```bash\n",
    "     source activate qmworks\n",
    "    ```\n",
    "\n",
    "  - Install dependecies\n",
    "    ```bash \n",
    "     conda install --name qmworks -c anaconda hdf5\n",
    "     conda install --name qmworks -c https://conda.anaconda.org/rdkit rdkit\n",
    "    ```\n",
    "\n",
    "  - install PLAMS dependencies\n",
    "    ```bash\n",
    "     pip install --no-cache-dir git+https://github.com/SCM-NV/PLAMS@master#egg=plams-1.2\n",
    "    ```\n",
    "\n",
    "  - install qmworks\n",
    "    ```bash\n",
    "     pip install --no-cache-dir git+https://github.com/sunxb05/PyFrag@master#egg=qmworks-0.0.1\n",
    "    ``` "
   ]
  },
  {
   "cell_type": "markdown",
   "metadata": {},
   "source": [
    "Once *qmworks*  has been installed, the user should put the ``host`` directory in source code of pyfrag in a special place like  ``bin`` directory in your remote host machine and do the necessary configuration in order to call pyfrag. For example, the flowing should be added to the .bashrc or .profile:"
   ]
  },
  {
   "cell_type": "markdown",
   "metadata": {},
   "source": [
    "```bash\n",
    "export HOSTPYFRAG='/home/bin/host'\n",
    "# the directory where the code of host which is part of pyfrag is located in host machine\n",
    "export QMWORKS='~/miniconda3/envs/qmworks'\n",
    "# the directory where qmworks is installed\n",
    "export USERNAME='x2sun'\n",
    "# the account name of your host machine\n",
    "```"
   ]
  }
 ],
 "metadata": {
  "anaconda-cloud": {},
  "kernelspec": {
   "display_name": "Python 3",
   "language": "python",
   "name": "python3"
  },
  "language_info": {
   "codemirror_mode": {
    "name": "ipython",
    "version": 3
   },
   "file_extension": ".py",
   "mimetype": "text/x-python",
   "name": "python",
   "nbconvert_exporter": "python",
   "pygments_lexer": "ipython3",
   "version": "3.5.6"
  }
 },
 "nbformat": 4,
 "nbformat_minor": 1
}
